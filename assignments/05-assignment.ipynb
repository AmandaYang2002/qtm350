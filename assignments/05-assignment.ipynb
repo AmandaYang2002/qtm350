{
 "cells": [
  {
   "cell_type": "markdown",
   "metadata": {},
   "source": [
    "## QTM 350: Data Science Computing\n",
    "\n",
    "### Assignment 05 - Literate Programming with Quarto \n",
    "\n",
    "### Due Date: 11:59 PM on Wednesday, October 09, 2024"
   ]
  },
  {
   "cell_type": "markdown",
   "metadata": {},
   "source": [
    "### Instructions\n",
    "\n",
    "In this assignment, you will demonstrate your proficiency with Quarto by creating data science reports and presentations. You will analyse a sample of the [World Development Indicators dataset](https://databank.worldbank.org/source/world-development-indicators), focusing on one year (2022) and 14 variables. Your task involves performing data analysis, generating visualisations, and producing reproducible documents in multiple formats.\n",
    "\n",
    "### Data\n",
    "\n",
    "The sample dataset is provided in the file `wdi.csv`. The dataset is available in [our GitHub repository](https://github.com/danilofreire/qtm350/tree/main/assignments/world_bank_data.csv). You can also create the dataset by running the Python code below."
   ]
  },
  {
   "cell_type": "code",
   "execution_count": 1,
   "metadata": {},
   "outputs": [],
   "source": [
    "# Install the necessary libraries\n",
    "# pip install pandas\n",
    "# pip install wbgapi\n",
    "\n",
    "# Import the libraries\n",
    "import pandas as pd\n",
    "import wbgapi as wb"
   ]
  },
  {
   "cell_type": "code",
   "execution_count": 2,
   "metadata": {},
   "outputs": [
    {
     "name": "stdout",
     "output_type": "stream",
     "text": [
      "(265, 14)\n",
      "       country  inflation_rate  exports_gdp_share  gdp_growth_rate  \\\n",
      "0     Zimbabwe      104.705171          27.955246         6.522375   \n",
      "1       Zambia       10.993204          40.193998         5.249622   \n",
      "2  Yemen, Rep.             NaN                NaN              NaN   \n",
      "\n",
      "   gdp_per_capita  adult_literacy_rate  primary_school_enrolment_rate  \\\n",
      "0     1676.821489            89.849998                      95.790001   \n",
      "1     1456.901570                  NaN                            NaN   \n",
      "2      698.850350                  NaN                            NaN   \n",
      "\n",
      "   education_expenditure_gdp_share  measles_immunisation_rate  \\\n",
      "0                              NaN                       90.0   \n",
      "1                            3.583                       90.0   \n",
      "2                              NaN                       73.0   \n",
      "\n",
      "   health_expenditure_gdp_share  income_inequality  unemployment_rate  \\\n",
      "0                           NaN                NaN             10.087   \n",
      "1                           NaN               51.5              5.993   \n",
      "2                           NaN                NaN             17.515   \n",
      "\n",
      "   life_expectancy  total_population  \n",
      "0           59.391        16320537.0  \n",
      "1           61.803        20017675.0  \n",
      "2           63.720        33696614.0  \n"
     ]
    }
   ],
   "source": [
    "# Define the indicators to download\n",
    "indicators = {\n",
    "    'gdp_per_capita': 'NY.GDP.PCAP.CD', # in current US dollars\n",
    "    'gdp_growth_rate': 'NY.GDP.MKTP.KD.ZG', # in percent\n",
    "    'inflation_rate': 'FP.CPI.TOTL.ZG', # in percent\n",
    "    'unemployment_rate': 'SL.UEM.TOTL.ZS', # in percent\n",
    "    'total_population': 'SP.POP.TOTL', # in persons\n",
    "    'life_expectancy': 'SP.DYN.LE00.IN', # in years\n",
    "    'adult_literacy_rate': 'SE.ADT.LITR.ZS', # in percent\n",
    "    'income_inequality': 'SI.POV.GINI', # Gini index (100 = perfect inequality)\n",
    "    'health_expenditure_gdp_share': 'SH.XPD.CHEX.GD.ZS', # in percent\n",
    "    'measles_immunisation_rate': 'SH.IMM.MEAS', # in percent of children\n",
    "    'education_expenditure_gdp_share': 'SE.XPD.TOTL.GD.ZS', # in percent\n",
    "    'primary_school_enrolment_rate': 'SE.PRM.ENRR', # in percent of children\n",
    "    'exports_gdp_share': 'NE.EXP.GNFS.ZS' # in percent\n",
    "}\n",
    "\n",
    "# Download data for all countries in 2022\n",
    "df = wb.data.DataFrame(indicators.values(), time=2022, skipBlanks=True, labels=True).reset_index()\n",
    "\n",
    "# Delete the 'economy' column\n",
    "df = df.drop(columns=['economy'], errors='ignore')\n",
    "\n",
    "# Create a reversed dictionary mapping indicator codes to names\n",
    "# Rename the columns and convert all names to lowercase\n",
    "df.rename(columns=lambda x: {v: k for k, v in indicators.items()}.get(x, x).lower(), inplace=True)\n",
    "\n",
    "# Display the number of rows and columns\n",
    "print(df.shape)\n",
    "\n",
    "# Display the first few rows of the data\n",
    "print(df.head(3))\n",
    "\n",
    "# Save the data to a CSV file\n",
    "# df.to_csv('wdi.csv', index=False)"
   ]
  },
  {
   "cell_type": "markdown",
   "metadata": {},
   "source": [
    "### Tasks\n",
    "\n",
    "1. Please initialise a new `.qmd` file with an appropriate `YAML` header. Include metadata such as `title`, `author`, `date`, and specify the output format as `HTML` and `PDF`.\n",
    "   \n",
    "2. Load the dataset using your preferred programming language (R or Python). \n",
    "   \n",
    "3. Conduct exploratory data analysis on at least three indicators of your choice. Summarise your findings in markdown sections. Show your code and results.\n",
    "   \n",
    "4. Create at least two different types of plots (e.g., bar chart, scatter plot) to represent your analysis. Use Quarto code chunks to embed these visualisations. Add a title and axis labels to each plot. Use Quarto to include a caption and a reference to the source of the data. Hide your code in the final document.\n",
    "   \n",
    "5. Construct a table that highlights some key statistics from your analysis. Ensure the table is well-formatted and included in the report.\n",
    "   \n",
    "6. Include cross-references to your figures and tables within the text. Demonstrate proper labeling and referencing techniques.\n",
    "   \n",
    "7. Add a bibliography using BibTeX (`.bib`). Cite at least two sources related to your analysis.\n",
    "   \n",
    "8.  Create a new `.qmd` file configured for `revealjs` output. Include a title slide, a few content slides, and a concluding slide. \n",
    "   \n",
    "9.  Incorporate your analysis and visualisations from the report into the presentation.\n",
    "    \n",
    "10. Customise the presentation theme and incorporate at least one transition effect between slides.\n",
    "    \n",
    "11. Render your report and presentation to HTML, PDF, and Revealjs (HTML) formats. \n",
    "    \n",
    "12. Use Git to manage your project and create a repository on GitHub. Submit the link to your repository on Canvas.\n",
    "    \n",
    "13. Set up GitHub Pages (preferably) or use GitHack to host your HTML report and presentation. \n",
    "\n",
    "### Bonus Questions\n",
    "\n",
    "14. Develop an interactive dashboard within your report using Quarto's dashboard features. Incorporate dynamic filters or widgets.\n",
    "    \n",
    "15. Configure automated rendering of your report using Quarto's command-line interface, possibly integrating with GitHub Actions for continuous integration."
   ]
  }
 ],
 "metadata": {
  "kernelspec": {
   "display_name": "base",
   "language": "python",
   "name": "python3"
  },
  "language_info": {
   "codemirror_mode": {
    "name": "ipython",
    "version": 3
   },
   "file_extension": ".py",
   "mimetype": "text/x-python",
   "name": "python",
   "nbconvert_exporter": "python",
   "pygments_lexer": "ipython3",
   "version": "3.12.2"
  }
 },
 "nbformat": 4,
 "nbformat_minor": 2
}
