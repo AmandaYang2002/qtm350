{
 "cells": [
  {
   "cell_type": "markdown",
   "metadata": {},
   "source": [
    "# QTM 350 - Data Science Computing\n",
    "\n",
    "## Assignment 04: Advanced Git\n",
    "### Due 02 October 2024\n",
    "\n",
    "In this assignment, you will explore Git in more depth, focusing on commands we have not covered in class. You should research how to solve each task using specific Git commands. Feel free to use any tools you prefer to complete the assignment. Explain each command in simple terms. Of course, you are welcome to test them as well! If you have any questions, please let me know.\n",
    "\n",
    "### Questions\n",
    "\n",
    "1. What command would you use to display all the commits that have not yet been pushed to the remote repository? <br>\n",
    "\n",
    "I use this line of code to achieve this: `git log origin/branch_name..HEAD` (I replace the branch_name with the name of my current branch, like main).<br>\n",
    "\n",
    "2. Explain the purpose of the `git tag` command. <br>\n",
    "\n",
    "The `git tag` command is used to create, list, delete, or manage tags in a Git repository. A common use of tags is to mark points in the commit history, such as when a new version of software is released. Tags provide a convenient way to access and retrieve those specific commits later.\n",
    "   \n",
    "3. How do you remove a file from the repository history? <br>\n",
    "\n",
    "To remove a file from the repository history, I can use the git filter-repo tool. Since this function is not pre-installed, I need to use `pip install git-filter-repo` to install it first. Next, I run `git filter-repo --path <file_to_remove> --invert-paths` and replace <file_to_remove> by the path of the file I want to delete from history. Last, I need to force-push the rewritten history to the remote repository: `git push --force --all` and `git push --force --tags`. <br>\n",
    "\n",
    "4. How do you temporarily save your changes without committing them? <br>\n",
    "\n",
    "I can use the `git stash` command. This allows me to save my working directory's changes (both staged and unstaged) and revert my working directory to a clean state. To only stash changes that have been added to the staging area, I use `git stash --keep-index`. To stash both tracked and untracked files (files not yet added with `git add`), I use `git stash -u`. <br>\n",
    "\n",
    "5. How do you amend the most recent commit message? <br>\n",
    "\n",
    "To amend the most recent commit message in Git, I use `git commit --amend`. This command opens my default text editor with the commit message of the most recent commit. I can then edit the message as needed. <br>\n",
    "   \n",
    "6. How can you split a commit into multiple commits?<br>\n",
    "\n",
    "To split a commit into multiple ones, I need to start an interactive rebase: `git rebase -i HEAD~N` where I replace N with the number of commits I want to go back to. After editing the target commit, I use `git reset HEAD^` to unstage the changes from the commit but keep them in my working directory as unstaged changes. Then, I can selectively stage and commit the changes in logical chunks. First, I stage the first part of the changes using `git add -p` and commit it. I repeat the process of staging and committing for each additional part of the changes I want to include in separate commits. Once I've split the commit into multiple commits, I continue the rebase using `git rebase --continue`. Git will move on and apply any remaining commits as part of the rebase process.<br>\n",
    "   \n",
    "7. How do you display the changes between two branches?<br>\n",
    "\n",
    "To compare the changes between two branches, I use `git diff branch1..branch2`where I replace branch1 and branch2 with the names of the branches I want to compare. <br>\n",
    "   \n",
    "8. What command would you use to see which remote repository a local repository is connected to? <br>\n",
    "\n",
    "I use `git remote -v`. <br>\n",
    "   \n",
    "9.  Explain the difference between `git merge` and `git rebase`.<br>\n",
    "\n",
    "`git merge` and `git rebase` both integrate changes from one branch into another, but in different ways. `git merge` creates a new \"merge commit\" that combines the histories of both branches, preserving a non-linear history. It's safer for collaboration since it doesn't rewrite history. `git rebase` moves the commits from one branch onto the tip of another, creating a clean, linear history by replaying commits without a merge commit. However, it rewrites history, which can cause issues if the branch has been shared. I'll use `merge` for clarity in collaboration and `rebase` for a cleaner, linear history.<br>\n",
    "    \n",
    "10. How can you search for a specific commit message?<br>\n",
    "\n",
    "To search for a specific commit message, I use `git log --grep=\"search_term\"` in which I replace \"search_term\" with the commit message I want to look up. "
   ]
  }
 ],
 "metadata": {
  "language_info": {
   "name": "python"
  }
 },
 "nbformat": 4,
 "nbformat_minor": 2
}
